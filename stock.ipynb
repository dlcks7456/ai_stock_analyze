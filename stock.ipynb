{
 "cells": [
  {
   "cell_type": "code",
   "execution_count": 1,
   "metadata": {},
   "outputs": [],
   "source": [
    "from get_financial import *"
   ]
  },
  {
   "cell_type": "code",
   "execution_count": 2,
   "metadata": {},
   "outputs": [
    {
     "name": "stdout",
     "output_type": "stream",
     "text": [
      "20230614_097950_CJ제일제당.html file has been created.\n",
      "[A.I] CJ제일제당:주식 재무 분석 & 적정주가 계산_2023/06/14\n",
      "20230614_016380_KG스틸.html file has been created.\n",
      "[A.I] KG스틸:주식 재무 분석 & 적정주가 계산_2023/06/14\n",
      "20230614_304100_솔트룩스.html file has been created.\n",
      "[A.I] 솔트룩스:주식 재무 분석 & 적정주가 계산_2023/06/14\n"
     ]
    }
   ],
   "source": [
    "for gicode in ['097950', '016380', '304100'] :\n",
    "    get_html(gicode)"
   ]
  }
 ],
 "metadata": {
  "kernelspec": {
   "display_name": "base",
   "language": "python",
   "name": "python3"
  },
  "language_info": {
   "codemirror_mode": {
    "name": "ipython",
    "version": 3
   },
   "file_extension": ".py",
   "mimetype": "text/x-python",
   "name": "python",
   "nbconvert_exporter": "python",
   "pygments_lexer": "ipython3",
   "version": "3.9.7"
  },
  "orig_nbformat": 4
 },
 "nbformat": 4,
 "nbformat_minor": 2
}
