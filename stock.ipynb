{
 "cells": [
  {
   "cell_type": "code",
   "execution_count": 1,
   "metadata": {},
   "outputs": [],
   "source": [
    "from get_financial import *"
   ]
  },
  {
   "cell_type": "code",
   "execution_count": 2,
   "metadata": {},
   "outputs": [
    {
     "name": "stdout",
     "output_type": "stream",
     "text": [
      "005380_현대차_20230612.html file has been created.\n",
      "현대차:주식 재무 분석 & 적정주가 계산_2023/06/12\n"
     ]
    },
    {
     "data": {
      "text/plain": [
       "'005380_현대차_20230612.html'"
      ]
     },
     "execution_count": 2,
     "metadata": {},
     "output_type": "execute_result"
    }
   ],
   "source": [
    "gicode = '005380'\n",
    "get_html(gicode)\n",
    "# get_stock_items(gicode)"
   ]
  },
  {
   "cell_type": "code",
   "execution_count": 2,
   "metadata": {},
   "outputs": [
    {
     "data": {
      "text/plain": [
       "{'연간재무제표':                 매출액    영업이익     영업이익률   당기순이익    ROE    PER   PBR\n",
       " year_chk                                                         \n",
       " 2020/12     1039976   23947  2.302649   19246   2.04  37.33  0.75\n",
       " 2021/12     1176106   66789  5.678825   56931   6.84  11.71  0.75\n",
       " 2022/12     1425275   98198  6.889758   79836   9.36   5.68  0.50\n",
       " 2023/12(E)  1557098  131417  8.439867  113162  12.40   5.04  0.58,\n",
       " '분기재무제표':                매출액   영업이익     영업이익률  당기순이익    ROE   PER   PBR\n",
       " year_chk                                                     \n",
       " 2023/03     377787  35927  9.509856  34194  15.81  None  0.58\n",
       " 2023/06(E)  399340  36089  9.037161  30327  13.81  None   NaN\n",
       " 2023/09(E)  383623  28780  7.502157  25170    NaN  None   NaN\n",
       " 2023/12(E)  397401  30436  7.658763  21950    NaN  None   NaN,\n",
       " '재무상태표':                자산       부채      자본        부채비율\n",
       " year_chk                                      \n",
       " 2020/12   2093442  1330032  763410  174.222502\n",
       " 2021/12   2339464  1513306  826158  183.173921\n",
       " 2022/12   2557425  1648459  908965  181.355608\n",
       " 2023/03   2643636  1704440  939195  181.478820,\n",
       " '재무비율':           유동비율  당좌비율   부채비율     유보율\n",
       " year_chk                           \n",
       " 2020/12   85.9  66.9  174.2  4680.5\n",
       " 2021/12   83.0  64.9  183.2  5068.2\n",
       " 2022/12   78.6  59.4  181.4  5545.6\n",
       " 2023/03   83.6  61.7  181.5  5713.9,\n",
       " '현금흐름표':           영업활동으로인한현금흐름  투자활동으로인한현금흐름  재무활동으로인한현금흐름\n",
       " year_chk                                          \n",
       " 2020/12          -4098        -93376        113525\n",
       " 2021/12         -11764        -51826         87923\n",
       " 2022/12         106273        -12035        -13245\n",
       " 2023/03            577          -634         10114,\n",
       " 'PER_적정주가_계산_결과':      현재주가      영업이익     영업이익_구분  예상PER_적정주가  가중PER_적정주가\n",
       " 0  196200  131417.0  올해 예상 영업이익      313117      805159,\n",
       " 'SRIM_적정주가_계산_결과':           초과이익_지속_적정주가  초과이익_10%감소_적정주가  초과이익_20%감소_적정주가  초과이익_30%감소_적정주가  \\\n",
       " 올해예상_ROE        460081           431381           421233           416043   \n",
       " 가중평균_ROE        460081           431381           421233           416043   \n",
       " \n",
       "           초과이익_40%감소_적정주가  초과이익_50%감소_적정주가   현재 주가   ROE  \n",
       " 올해예상_ROE           412890           410772  196200  12.4  \n",
       " 가중평균_ROE           412890           410772  196200  12.4  }"
      ]
     },
     "execution_count": 2,
     "metadata": {},
     "output_type": "execute_result"
    }
   ],
   "source": [
    "gicode = '005380'\n",
    "for_chatgpt(gicode)"
   ]
  }
 ],
 "metadata": {
  "kernelspec": {
   "display_name": "base",
   "language": "python",
   "name": "python3"
  },
  "language_info": {
   "codemirror_mode": {
    "name": "ipython",
    "version": 3
   },
   "file_extension": ".py",
   "mimetype": "text/x-python",
   "name": "python",
   "nbconvert_exporter": "python",
   "pygments_lexer": "ipython3",
   "version": "3.9.7"
  },
  "orig_nbformat": 4
 },
 "nbformat": 4,
 "nbformat_minor": 2
}
