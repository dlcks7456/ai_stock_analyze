{
 "cells": [
  {
   "cell_type": "code",
   "execution_count": 1,
   "metadata": {},
   "outputs": [],
   "source": [
    "from get_financial import *"
   ]
  },
  {
   "cell_type": "code",
   "execution_count": 2,
   "metadata": {},
   "outputs": [
    {
     "name": "stdout",
     "output_type": "stream",
     "text": [
      "20230613_005380_현대차.html file has been created.\n",
      "현대차:주식 재무 분석 & 적정주가 계산_2023/06/13\n"
     ]
    },
    {
     "data": {
      "text/plain": [
       "'20230613_005380_현대차.html'"
      ]
     },
     "execution_count": 2,
     "metadata": {},
     "output_type": "execute_result"
    }
   ],
   "source": [
    "gicode = '005380'\n",
    "get_html(gicode)\n",
    "# get_stock_items(gicode)"
   ]
  },
  {
   "cell_type": "code",
   "execution_count": 6,
   "metadata": {},
   "outputs": [],
   "source": [
    "import pandas as pd\n",
    "import requests\n",
    "from bs4 import BeautifulSoup\n",
    "import re\n",
    "from datetime import datetime\n",
    "\n",
    "gicode = '005380'"
   ]
  },
  {
   "cell_type": "code",
   "execution_count": 7,
   "metadata": {},
   "outputs": [],
   "source": [
    "nv_url = f'https://finance.naver.com/item/main.naver?code={str(gicode)}'\n",
    "nv_response = requests.get(nv_url)\n",
    "nv_soup = BeautifulSoup(nv_response.text, 'html.parser')\n",
    "\n",
    "# NAVER 동일업종 PER 정보\n",
    "nv_same_per = None\n",
    "table = nv_soup.find('table', {'summary': '동일업종 PER 정보'})"
   ]
  },
  {
   "cell_type": "code",
   "execution_count": 16,
   "metadata": {},
   "outputs": [
    {
     "data": {
      "text/plain": [
       "'https://finance.naver.com/sise/sise_group_detail.naver?type=upjong&no=273'"
      ]
     },
     "execution_count": 16,
     "metadata": {},
     "output_type": "execute_result"
    }
   ],
   "source": [
    "nv_a = table.find('a')['href']\n",
    "nv_main = 'https://finance.naver.com'\n",
    "nv_link = f'{nv_main}{nv_a}'\n",
    "nv_link"
   ]
  }
 ],
 "metadata": {
  "kernelspec": {
   "display_name": "base",
   "language": "python",
   "name": "python3"
  },
  "language_info": {
   "codemirror_mode": {
    "name": "ipython",
    "version": 3
   },
   "file_extension": ".py",
   "mimetype": "text/x-python",
   "name": "python",
   "nbconvert_exporter": "python",
   "pygments_lexer": "ipython3",
   "version": "3.9.7"
  },
  "orig_nbformat": 4
 },
 "nbformat": 4,
 "nbformat_minor": 2
}
